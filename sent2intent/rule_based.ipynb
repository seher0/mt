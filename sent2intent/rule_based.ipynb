{
 "cells": [
  {
   "cell_type": "code",
   "execution_count": 96,
   "metadata": {
    "collapsed": false
   },
   "outputs": [],
   "source": [
    "from rule_based import label2text, max_sent_length"
   ]
  },
  {
   "cell_type": "code",
   "execution_count": 97,
   "metadata": {
    "collapsed": true
   },
   "outputs": [],
   "source": [
    "from spacy.en import English\n",
    "nlp = English()\n",
    "doc = nlp(u'Hello, world. Here are two sentences.')"
   ]
  },
  {
   "cell_type": "code",
   "execution_count": 11,
   "metadata": {
    "collapsed": true
   },
   "outputs": [],
   "source": []
  },
  {
   "cell_type": "code",
   "execution_count": 94,
   "metadata": {
    "collapsed": false
   },
   "outputs": [
    {
     "name": "stdout",
     "output_type": "stream",
     "text": [
      "^^  book facial for me\n",
      "book  NN (u'ROOT', book )\n",
      "facial  JJ (u'amod', book )\n",
      "for  IN (u'prep', facial )\n",
      "me PRP (u'pobj', for )\n",
      "--> res is  [facial ]\n"
     ]
    },
    {
     "data": {
      "text/plain": [
       "[facial ]"
      ]
     },
     "execution_count": 94,
     "metadata": {},
     "output_type": "execute_result"
    }
   ],
   "source": [
    "def analyze(sent):\n",
    "    tokens = nlp(sent)\n",
    "    print '^^ ', sent\n",
    "    res = []\n",
    "    for tok in tokens:\n",
    "        \n",
    "        print tok, tok.tag_, (tok.dep_, tok.head)\n",
    "        if tok.dep_ == 'dobj':\n",
    "            #print \"->\" , tok\n",
    "            res.append(tok)\n",
    "            for tok1 in tokens:\n",
    "                if tok1.head is tok:\n",
    "                    if tok1.tag_ not in ['PRP', 'PRP$', 'DT']:\n",
    "                        res.append(tok1)\n",
    "            h = tok.head\n",
    "            if h.dep_ not in [u'ROOT',u'xcomp']:\n",
    "                #print ('##3 h.dep_', h.dep_)\n",
    "                res.append(h)\n",
    "    \n",
    "    if len(res) > 0:\n",
    "        print '--> res is ', res\n",
    "        return res\n",
    "    \n",
    "    for tok in tokens:\n",
    "        #print tok, tok.tag_, (tok.dep_, tok.head)\n",
    "        if tok.dep_ == 'amod':\n",
    "            res.append(tok)\n",
    "    \n",
    "    if len(res) > 0:\n",
    "        print '--> res is ', res\n",
    "        return res\n",
    "        \n",
    "        \n",
    "    #for chunk in tokens.noun_chunks:\n",
    "    #    print chunk.orth_\n",
    "\n",
    "#analyze(u'I want a recharge')  \n",
    "analyze(u'book facial for me')"
   ]
  },
  {
   "cell_type": "code",
   "execution_count": 95,
   "metadata": {
    "collapsed": false
   },
   "outputs": [
    {
     "name": "stdout",
     "output_type": "stream",
     "text": [
      "** Refunds\n",
      "^^  refunds\n",
      "refunds NNS (u'ROOT', refunds)\n",
      "--\n",
      "^^  when can i get refund\n",
      "when  WRB (u'advmod', get )\n",
      "can  MD (u'aux', get )\n",
      "i  PRP (u'nsubj', get )\n",
      "get  VB (u'ROOT', get )\n",
      "refund NN (u'dobj', get )\n",
      "--> res is  [refund]\n",
      "--\n",
      "^^  how will i get refund\n",
      "how  WRB (u'advmod', get )\n",
      "will  MD (u'aux', get )\n",
      "i  PRP (u'nsubj', get )\n",
      "get  VB (u'ROOT', get )\n",
      "refund NN (u'dobj', get )\n",
      "--> res is  [refund]\n",
      "--\n",
      "^^  where will i get refund\n",
      "where  WRB (u'advmod', get )\n",
      "will  MD (u'aux', get )\n",
      "i  PRP (u'nsubj', get )\n",
      "get  VB (u'ROOT', get )\n",
      "refund NN (u'dobj', get )\n",
      "--> res is  [refund]\n",
      "--\n",
      "^^  give me refund\n",
      "give  VB (u'ROOT', give )\n",
      "me  PRP (u'dative', give )\n",
      "refund VB (u'dobj', give )\n",
      "--> res is  [refund]\n",
      "--\n",
      "^^  i need refund\n",
      "i  PRP (u'nsubj', need )\n",
      "need  VBP (u'ROOT', need )\n",
      "refund NN (u'dobj', need )\n",
      "--> res is  [refund]\n",
      "--\n",
      "^^  i want refund\n",
      "i  PRP (u'nsubj', want )\n",
      "want  VBP (u'ROOT', want )\n",
      "refund NN (u'dobj', want )\n",
      "--> res is  [refund]\n",
      "--\n",
      "^^  give me my money back\n",
      "give  VB (u'ROOT', give )\n",
      "me  PRP (u'dative', give )\n",
      "my  PRP$ (u'poss', money )\n",
      "money  NN (u'dobj', give )\n",
      "back RB (u'advmod', give )\n",
      "--> res is  [money ]\n",
      "--\n",
      "^^  give my money back\n",
      "give  VB (u'ROOT', give )\n",
      "my  PRP$ (u'poss', money )\n",
      "money  NN (u'dobj', give )\n",
      "back RB (u'advmod', give )\n",
      "--> res is  [money ]\n",
      "--\n",
      "^^  how do i get my money back\n",
      "how  WRB (u'advmod', get )\n",
      "do  VBP (u'aux', get )\n",
      "i  PRP (u'nsubj', get )\n",
      "get  VB (u'ROOT', get )\n",
      "my  PRP$ (u'poss', money )\n",
      "money  NN (u'dobj', get )\n",
      "back RB (u'advmod', get )\n",
      "--> res is  [money ]\n",
      "--\n",
      "^^  i need my money back\n",
      "i  PRP (u'nsubj', need )\n",
      "need  VBP (u'ROOT', need )\n",
      "my  PRP$ (u'poss', money )\n",
      "money  NN (u'dobj', need )\n",
      "back RB (u'advmod', need )\n",
      "--> res is  [money ]\n",
      "--\n",
      "^^  initiate my refund\n",
      "initiate  VB (u'ROOT', initiate )\n",
      "my  PRP$ (u'poss', refund)\n",
      "refund NN (u'dobj', initiate )\n",
      "--> res is  [refund]\n",
      "--\n",
      "^^  when will you refund\n",
      "when  WRB (u'advmod', refund)\n",
      "will  MD (u'aux', refund)\n",
      "you  PRP (u'nsubj', refund)\n",
      "refund VB (u'ROOT', refund)\n",
      "--\n",
      "^^  can you refund my money\n",
      "can  MD (u'aux', refund )\n",
      "you  PRP (u'nsubj', refund )\n",
      "refund  VB (u'ROOT', refund )\n",
      "my  PRP$ (u'poss', money)\n",
      "money NN (u'dobj', refund )\n",
      "--> res is  [money]\n",
      "--\n",
      "^^  give back the order amount\n",
      "give  VB (u'ROOT', give )\n",
      "back  RP (u'prt', give )\n",
      "the  DT (u'det', amount)\n",
      "order  NN (u'compound', amount)\n",
      "amount NN (u'dobj', give )\n",
      "--> res is  [amount, order ]\n",
      "--\n",
      "^^  failed transaction\n",
      "failed  VBD (u'amod', transaction)\n",
      "transaction NN (u'ROOT', transaction)\n",
      "--> res is  [failed ]\n",
      "--\n",
      "^^  the last transaction failed.\n",
      "the  DT (u'det', transaction )\n",
      "last  JJ (u'amod', transaction )\n",
      "transaction  NN (u'nsubj', failed)\n",
      "failed VBD (u'ROOT', failed)\n",
      ". . (u'punct', failed)\n",
      "--> res is  [last ]\n",
      "--\n",
      "^^  the transaction did not succeed\n",
      "the  DT (u'det', transaction )\n",
      "transaction  NN (u'nsubj', succeed)\n",
      "did  VBD (u'aux', succeed)\n",
      "not  RB (u'neg', succeed)\n",
      "succeed VB (u'ROOT', succeed)\n",
      "--\n"
     ]
    }
   ],
   "source": [
    "for label in label2text:\n",
    "    texts = label2text[label]\n",
    "    if label is not 'Refunds':\n",
    "        continue\n",
    "    print \"** \" + label\n",
    "    for sent in texts:\n",
    "        analyze(sent)\n",
    "        print '--'"
   ]
  },
  {
   "cell_type": "code",
   "execution_count": null,
   "metadata": {
    "collapsed": true
   },
   "outputs": [],
   "source": []
  }
 ],
 "metadata": {
  "kernelspec": {
   "display_name": "Python 2",
   "language": "python",
   "name": "python2"
  },
  "language_info": {
   "codemirror_mode": {
    "name": "ipython",
    "version": 2
   },
   "file_extension": ".py",
   "mimetype": "text/x-python",
   "name": "python",
   "nbconvert_exporter": "python",
   "pygments_lexer": "ipython2",
   "version": "2.7.10"
  }
 },
 "nbformat": 4,
 "nbformat_minor": 0
}
