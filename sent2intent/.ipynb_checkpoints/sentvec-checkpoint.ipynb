{
 "cells": [
  {
   "cell_type": "code",
   "execution_count": 16,
   "metadata": {
    "collapsed": false
   },
   "outputs": [
    {
     "name": "stdout",
     "output_type": "stream",
     "text": [
      "beauty [u'book beauty services', u'i want to book beauty services', u'book facial for me', u'how to book beauty services', u'book waxing service for me'] \n",
      "\n",
      "bills [u'pay my bill', u'pay my dth bill', u'pay my electricity bill', u'pay my water bills', u'bill payment', u'how do i pay bill', u'pay bills'] \n",
      "\n",
      "\n",
      "prescription [u'order prescription medicine', u'order medicine', u'i want medicines for my prescription', u'how to order medicine', u'you deliver medicine'] \n",
      "\n",
      "\n",
      "Refunds [u'refunds', u'when can i get refund', u'how will i get refund', u'where will i get refund', u'give me refund', u'i need refund', u'i want refund', u'give me my money back', u'give my money back', u'how do i get my money back', u'i need my money back', u'initiate my refund', u'when will you refund', u'can you refund my money', u'give back the order amount', u'failed transaction', u'the last transaction failed.', u'the transaction did not succeed'] \n",
      "\n",
      "Referral [u'how to get referral bonus', u'where is my referral amount', u'where can i avail referral bonus', u'how to use referral bonus', u'how to refer', u'where to refer', u'refer and earn', u'share and earn', u'how to refer and earn'] \n",
      "\n",
      "support [u'how can i contact support?', u'i need help on my order', u'i want to cancel the order', u'help me with the order'] \n",
      "\n",
      "offers [u'what offers do you have?', u'any offers', u'what are the offers?', u'any deals?', u'what deals do you have to  offer', u'where can i see the deals', u'i want to avail offer', u'where i see the offers?', u'what are the deals you are offering?', u'what type of offers do you provide?', u'how to get cashback'] \n",
      "\n"
     ]
    }
   ],
   "source": [
    "\n",
    "import json\n",
    "import numpy as np\n",
    "from pprint import pprint\n",
    "\n",
    "\n",
    "labels = ['beauty', 'bills', 'grocery', 'prescription', 'recharge', 'Refunds', 'Referral', 'support', 'offers']\n",
    "\n",
    "from extract_data import extract_api_ai_data\n",
    "\n",
    "\n",
    "\n",
    "label2text, max_sent_length = extract_api_ai_data(labels)"
   ]
  },
  {
   "cell_type": "code",
   "execution_count": 2,
   "metadata": {
    "collapsed": true
   },
   "outputs": [],
   "source": [
    "from spacy.en import English\n",
    "\n",
    "nlp = English()\n",
    "doc = nlp(u'Hello, world. Here are two sentences.')\n"
   ]
  },
  {
   "cell_type": "code",
   "execution_count": 3,
   "metadata": {
    "collapsed": true
   },
   "outputs": [],
   "source": []
  },
  {
   "cell_type": "code",
   "execution_count": 12,
   "metadata": {
    "collapsed": false
   },
   "outputs": [],
   "source": []
  },
  {
   "cell_type": "code",
   "execution_count": 19,
   "metadata": {
    "collapsed": false
   },
   "outputs": [
    {
     "data": {
      "text/plain": [
       "True"
      ]
     },
     "execution_count": 19,
     "metadata": {},
     "output_type": "execute_result"
    }
   ],
   "source": []
  },
  {
   "cell_type": "code",
   "execution_count": 38,
   "metadata": {
    "collapsed": false
   },
   "outputs": [
    {
     "name": "stdout",
     "output_type": "stream",
     "text": [
      "334159\n",
      "-19.5020294189\n",
      "False\n"
     ]
    }
   ],
   "source": [
    "''' Misc Examples\n",
    "doc[1].repvec == doc[1].vector\n",
    "words = [w for w in nlp.vocab if w.has_vector]\n",
    "print len(words)\n",
    "np.any(doc[2].vector)\n",
    "print nlp.vocab[u'reharge'].prob\n",
    "print nlp.vocab[u'reharge'].has_vector\n",
    "n_dimensions = nlp.vocab.load_vectors('glove.840B.300d.txt.bz2')\n",
    "print n_dimensions\n",
    "'''\n"
   ]
  },
  {
   "cell_type": "code",
   "execution_count": null,
   "metadata": {
    "collapsed": true
   },
   "outputs": [],
   "source": []
  }
 ],
 "metadata": {
  "kernelspec": {
   "display_name": "Python 2",
   "language": "python",
   "name": "python2"
  },
  "language_info": {
   "codemirror_mode": {
    "name": "ipython",
    "version": 2
   },
   "file_extension": ".py",
   "mimetype": "text/x-python",
   "name": "python",
   "nbconvert_exporter": "python",
   "pygments_lexer": "ipython2",
   "version": "2.7.10"
  }
 },
 "nbformat": 4,
 "nbformat_minor": 0
}
