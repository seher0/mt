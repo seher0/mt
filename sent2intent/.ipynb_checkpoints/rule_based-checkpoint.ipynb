{
 "cells": [
  {
   "cell_type": "code",
   "execution_count": 4,
   "metadata": {
    "collapsed": false
   },
   "outputs": [
    {
     "name": "stdout",
     "output_type": "stream",
     "text": [
      "beauty [u'book beauty services', u'i want to book beauty services', u'book facial for me', u'how to book beauty services', u'book waxing service for me'] \n",
      "\n",
      "bills [u'pay my bill', u'pay my dth bill', u'pay my electricity bill', u'pay my water bills', u'bill payment', u'how do i pay bill', u'pay bills'] \n",
      "\n",
      "\n",
      "prescription [u'order prescription medicine', u'order medicine', u'i want medicines for my prescription', u'how to order medicine', u'you deliver medicine'] \n",
      "\n",
      "\n",
      "Refunds [u'refunds', u'when can i get refund', u'how will i get refund', u'where will i get refund', u'give me refund', u'i need refund', u'i want refund', u'give me my money back', u'give my money back', u'how do i get my money back', u'i need my money back', u'initiate my refund', u'when will you refund', u'can you refund my money', u'give back the order amount', u'failed transaction', u'the last transaction failed.', u'the transaction did not succeed'] \n",
      "\n",
      "Referral [u'how to get referral bonus', u'where is my referral amount', u'where can i avail referral bonus', u'how to use referral bonus', u'how to refer', u'where to refer', u'refer and earn', u'share and earn', u'how to refer and earn'] \n",
      "\n",
      "support [u'how can i contact support?', u'i need help on my order', u'i want to cancel the order', u'help me with the order'] \n",
      "\n",
      "offers [u'what offers do you have?', u'any offers', u'what are the offers?', u'any deals?', u'what deals do you have to  offer', u'where can i see the deals', u'i want to avail offer', u'where i see the offers?', u'what are the deals you are offering?', u'what type of offers do you provide?', u'how to get cashback'] \n",
      "\n"
     ]
    }
   ],
   "source": [
    "from rule_based import label2text, max_sent_length"
   ]
  },
  {
   "cell_type": "code",
   "execution_count": 5,
   "metadata": {
    "collapsed": true
   },
   "outputs": [],
   "source": [
    "from spacy.en import English\n",
    "nlp = English()\n",
    "doc = nlp(u'Hello, world. Here are two sentences.')"
   ]
  },
  {
   "cell_type": "code",
   "execution_count": 11,
   "metadata": {
    "collapsed": true
   },
   "outputs": [],
   "source": []
  },
  {
   "cell_type": "code",
   "execution_count": 62,
   "metadata": {
    "collapsed": false
   },
   "outputs": [
    {
     "name": "stdout",
     "output_type": "stream",
     "text": [
      "^^  book facial for me\n",
      "book  NN (u'ROOT', book )\n",
      "facial  JJ (u'amod', book )\n",
      "for  IN (u'prep', facial )\n",
      "me PRP (u'pobj', for )\n"
     ]
    }
   ],
   "source": [
    "def analyze(sent):\n",
    "    tokens = nlp(sent)\n",
    "    print '^^ ', sent\n",
    "    res = []\n",
    "    for tok in tokens:\n",
    "        \n",
    "        #print tok, tok.tag_, (tok.dep_, tok.head)\n",
    "        if tok.dep_ == 'dobj':\n",
    "        #    print \"->\" , tok\n",
    "            res.append(tok)\n",
    "            for tok1 in tokens:\n",
    "                if tok1.head is tok:\n",
    "                    res.append(tok1)\n",
    "    \n",
    "    if len(res) > 0:\n",
    "        return res\n",
    "    \n",
    "    for tok in tokens:\n",
    "        \n",
    "        print tok, tok.tag_, (tok.dep_, tok.head)\n",
    "    \n",
    "    #print 'res is ', res\n",
    "        \n",
    "        \n",
    "    #for chunk in tokens.noun_chunks:\n",
    "    #    print chunk.orth_\n",
    "\n",
    "#analyze(u'I want a recharge')  \n",
    "analyze(u'book facial for me')"
   ]
  },
  {
   "cell_type": "code",
   "execution_count": 61,
   "metadata": {
    "collapsed": false
   },
   "outputs": [
    {
     "name": "stdout",
     "output_type": "stream",
     "text": [
      "** beauty\n",
      "^^  book beauty services\n",
      "book  NN (u'compound', services)\n",
      "beauty  NN (u'compound', services)\n",
      "services NNS (u'ROOT', services)\n",
      "res is  []\n",
      "--\n",
      "^^  i want to book beauty services\n",
      "i  PRP (u'nsubj', want )\n",
      "want  VBP (u'ROOT', want )\n",
      "to  TO (u'aux', book )\n",
      "book  VB (u'xcomp', want )\n",
      "beauty  NN (u'compound', services)\n",
      "services NNS (u'dobj', book )\n",
      "-> services\n",
      "res is  [services, beauty ]\n",
      "--\n",
      "^^  book facial for me\n",
      "book  NN (u'ROOT', book )\n",
      "facial  JJ (u'amod', book )\n",
      "for  IN (u'prep', facial )\n",
      "me PRP (u'pobj', for )\n",
      "res is  []\n",
      "--\n",
      "^^  how to book beauty services\n",
      "how  WRB (u'advmod', book )\n",
      "to  TO (u'aux', book )\n",
      "book  VB (u'ROOT', book )\n",
      "beauty  NN (u'compound', services)\n",
      "services NNS (u'dobj', book )\n",
      "-> services\n",
      "res is  [services, beauty ]\n",
      "--\n",
      "^^  book waxing service for me\n",
      "book  NN (u'ROOT', book )\n",
      "waxing  VBG (u'acl', book )\n",
      "service  NN (u'dobj', waxing )\n",
      "-> service \n",
      "for  IN (u'prep', waxing )\n",
      "me PRP (u'pobj', for )\n",
      "res is  [service ]\n",
      "--\n"
     ]
    }
   ],
   "source": [
    "for label in label2text:\n",
    "    texts = label2text[label]\n",
    "    if label is not 'beauty':\n",
    "        continue\n",
    "    print \"** \" + label\n",
    "    for sent in texts:\n",
    "        analyze(sent)\n",
    "        print '--'"
   ]
  },
  {
   "cell_type": "code",
   "execution_count": null,
   "metadata": {
    "collapsed": true
   },
   "outputs": [],
   "source": []
  }
 ],
 "metadata": {
  "kernelspec": {
   "display_name": "Python 2",
   "language": "python",
   "name": "python2"
  },
  "language_info": {
   "codemirror_mode": {
    "name": "ipython",
    "version": 2
   },
   "file_extension": ".py",
   "mimetype": "text/x-python",
   "name": "python",
   "nbconvert_exporter": "python",
   "pygments_lexer": "ipython2",
   "version": "2.7.10"
  }
 },
 "nbformat": 4,
 "nbformat_minor": 0
}
