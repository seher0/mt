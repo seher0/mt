{
 "cells": [
  {
   "cell_type": "code",
   "execution_count": 3,
   "metadata": {
    "collapsed": false
   },
   "outputs": [
    {
     "name": "stdout",
     "output_type": "stream",
     "text": [
      "The autoreload extension is already loaded. To reload it, use:\n",
      "  %reload_ext autoreload\n"
     ]
    }
   ],
   "source": [
    "%load_ext autoreload\n",
    "%autoreload 2"
   ]
  },
  {
   "cell_type": "code",
   "execution_count": 4,
   "metadata": {
    "collapsed": false
   },
   "outputs": [
    {
     "name": "stdout",
     "output_type": "stream",
     "text": [
      "beauty [u'book beauty services', u'i want to book beauty services', u'book facial for me', u'how to book beauty services', u'book waxing service for me'] \n",
      "\n",
      "bills [u'pay my bill', u'pay my dth bill', u'pay my electricity bill', u'pay my water bills', u'bill payment', u'how do i pay bill', u'pay bills'] \n",
      "\n",
      "grocery [u'order', u'buy', u'order', u'how to order', u'show me the list to buy grocery'] \n",
      "\n",
      "prescription [u'order prescription medicine', u'order medicine', u'i want medicines for my prescription', u'how to order medicine', u'you deliver medicine'] \n",
      "\n",
      "recharge [u'recharge my phone', u'recharge phone', u'pay postpaid bill', u'rebharge', u'rehcarge', u'can you help reharge my phone', u'how recharge', u'how do i recharge', u'how recharge', u'how to recharge mobile phone', u'i want to recharge mobile phone', u'how to recharge here', u'how to recharge in this app', u'how can i recharge from this app', u'your airtel', u'your vodafone'] \n",
      "\n",
      "Refunds [u'refunds', u'when can i get refund', u'how will i get refund', u'where will i get refund', u'give me refund', u'i need refund', u'i want refund', u'give me my money back', u'give my money back', u'how do i get my money back', u'i need my money back', u'initiate my refund', u'when will you refund', u'can you refund my money', u'give back the order amount', u'failed transaction', u'the last transaction failed.', u'the transaction did not succeed'] \n",
      "\n",
      "Referral [u'how to get referral bonus', u'where is my referral amount', u'where can i avail referral bonus', u'how to use referral bonus', u'how to refer', u'where to refer', u'refer and earn', u'share and earn', u'how to refer and earn'] \n",
      "\n",
      "support [u'how can i contact support?', u'i need help on my order', u'i want to cancel the order', u'help me with the order'] \n",
      "\n",
      "offers [u'what offers do you have?', u'any offers', u'what are the offers?', u'any deals?', u'what deals do you have to  offer', u'where can i see the deals', u'i want to avail offer', u'where i see the offers?', u'what are the deals you are offering?', u'what type of offers do you provide?', u'how to get cashback'] \n",
      "\n",
      "beauty [u'book beauty services', u'i want to book beauty services', u'book facial for me', u'how to book beauty services', u'book waxing service for me'] \n",
      "\n",
      "bills [u'pay my bill', u'pay my dth bill', u'pay my electricity bill', u'pay my water bills', u'bill payment', u'how do i pay bill', u'pay bills'] \n",
      "\n",
      "grocery [u'order', u'buy', u'order', u'how to order', u'show me the list to buy grocery'] \n",
      "\n",
      "prescription [u'order prescription medicine', u'order medicine', u'i want medicines for my prescription', u'how to order medicine', u'you deliver medicine'] \n",
      "\n",
      "recharge [u'recharge my phone', u'recharge phone', u'pay postpaid bill', u'rebharge', u'rehcarge', u'can you help reharge my phone', u'how recharge', u'how do i recharge', u'how recharge', u'how to recharge mobile phone', u'i want to recharge mobile phone', u'how to recharge here', u'how to recharge in this app', u'how can i recharge from this app', u'your airtel', u'your vodafone'] \n",
      "\n",
      "Refunds [u'refunds', u'when can i get refund', u'how will i get refund', u'where will i get refund', u'give me refund', u'i need refund', u'i want refund', u'give me my money back', u'give my money back', u'how do i get my money back', u'i need my money back', u'initiate my refund', u'when will you refund', u'can you refund my money', u'give back the order amount', u'failed transaction', u'the last transaction failed.', u'the transaction did not succeed'] \n",
      "\n",
      "Referral [u'how to get referral bonus', u'where is my referral amount', u'where can i avail referral bonus', u'how to use referral bonus', u'how to refer', u'where to refer', u'refer and earn', u'share and earn', u'how to refer and earn'] \n",
      "\n",
      "support [u'how can i contact support?', u'i need help on my order', u'i want to cancel the order', u'help me with the order'] \n",
      "\n",
      "offers [u'what offers do you have?', u'any offers', u'what are the offers?', u'any deals?', u'what deals do you have to  offer', u'where can i see the deals', u'i want to avail offer', u'where i see the offers?', u'what are the deals you are offering?', u'what type of offers do you provide?', u'how to get cashback'] \n",
      "\n"
     ]
    }
   ],
   "source": [
    "\n",
    "import json\n",
    "import numpy as np\n",
    "from pprint import pprint\n",
    "\n",
    "\n",
    "labels = [u'beauty', u'bills', u'grocery', u'prescription', u'recharge', u'Refunds', u'Referral', u'support', u'offers']\n",
    "\n",
    "from extract_data import extract_api_ai_data\n",
    "\n",
    "\n",
    "\n",
    "label2text, max_sent_length = extract_api_ai_data(labels)"
   ]
  },
  {
   "cell_type": "code",
   "execution_count": 5,
   "metadata": {
    "collapsed": true
   },
   "outputs": [],
   "source": [
    "#http://scikit-learn.org/stable/tutorial/text_analytics/working_with_text_data.html\n",
    "\n",
    "allsents = []\n",
    "alllabels = []\n",
    "label2onesent = {}\n",
    "\n",
    "for label, sents in label2text.viewitems():\n",
    "    #allsents.extend(sents)\n",
    "    label2onesent[label] = ' '.join(sents)\n",
    "    for sent in sents:\n",
    "        allsents.append(sent)\n",
    "        alllabels.append(label)\n"
   ]
  },
  {
   "cell_type": "code",
   "execution_count": 30,
   "metadata": {
    "collapsed": false
   },
   "outputs": [
    {
     "name": "stdout",
     "output_type": "stream",
     "text": [
      "(80, 106)\n",
      "{u'refund': 76, u'medicin': 42, u'rehcarg': 80, u'rebharg': 67, u'help': 35, u'money': 46, u'app': 4, u'list buy': 41, u'ani offer': 3, u'cancel': 17, u'thi app': 87, u'mobil': 44, u'wax servic': 105, u'fail transact': 33, u'order prescript': 55, u'initi refund': 39, u'recharg thi': 71, u'transact': 88, u'prescript': 64, u'avail': 5, u'avail referr': 7, u'cashback': 19, u'vodafon': 95, u'wax': 104, u'want cancel': 99, u'type': 91, u'type offer': 92, u'book': 11, u'recharg mobil': 69, u'help order': 36, u'offer provid': 52, u'prescript medicin': 65, u'offer': 51, u'avail offer': 6, u'electr': 30, u'reharg': 78, u'initi': 38, u'referr bonu': 75, u'did succeed': 27, u'beauti servic': 9, u'order medicin': 54, u'facial': 31, u'want book': 98, u'deliv medicin': 25, u'want medicin': 100, u'buy groceri': 16, u'earn': 29, u'dth': 28, u'reharg phone': 79, u'did': 26, u'servic': 81, u'need help': 48, u'bonu': 10, u'provid': 66, u'need money': 49, u'airtel': 0, u'medicin prescript': 43, u'transact fail': 90, u'pay electr': 58, u'want': 96, u'contact support': 21, u'list': 40, u'share earn': 83, u'share': 82, u'ani': 1, u'need': 47, u'buy': 15, u'deal offer': 23, u'deliv': 24, u'fail': 32, u'book beauti': 12, u'recharg': 68, u'refer earn': 73, u'pay': 56, u'book wax': 14, u'want recharg': 101, u'mobil phone': 45, u'recharg phone': 70, u'want avail': 97, u'want refund': 102, u'pay water': 60, u'transact did': 89, u'pay postpaid': 59, u'refer': 72, u'pay dth': 57, u'use': 93, u'refund money': 77, u'water': 103, u'succeed': 84, u'beauti': 8, u'referr': 74, u'payment': 61, u'use referr': 94, u'help reharg': 37, u'ani deal': 2, u'book facial': 13, u'phone': 62, u'deal': 22, u'order': 53, u'postpaid': 63, u'groceri': 34, u'contact': 20, u'thi': 86, u'need refund': 50, u'support': 85, u'cancel order': 18}\n",
      "(80, 106)\n"
     ]
    }
   ],
   "source": [
    "import nltk\n",
    "from nltk.stem.porter import PorterStemmer\n",
    "import string\n",
    "\n",
    "def tokenize(text):\n",
    "    tokens = nltk.word_tokenize(text)\n",
    "    stems = []\n",
    "    for item in tokens:\n",
    "        if item in string.punctuation:\n",
    "            #print item\n",
    "            continue\n",
    "        stems.append(PorterStemmer().stem(item))\n",
    "    return stems\n",
    "\n",
    "from sklearn.feature_extraction.text import CountVectorizer\n",
    "count_vect = CountVectorizer(stop_words='english',tokenizer=tokenize, ngram_range=(1, 2))\n",
    "#count_vect = CountVectorizer(stop_words='english', ngram_range=(1, 2))\n",
    "\n",
    "X_train_counts = count_vect.fit_transform(allsents)\n",
    "print X_train_counts.shape\n",
    "print count_vect.vocabulary_ #['give back']\n",
    "\n",
    "#tfidf = TfidfVectorizer(stop_words='english')\n",
    "#tfs = tfidf.fit_transform(X_train_counts)\n",
    "from sklearn.feature_extraction.text import TfidfTransformer\n",
    "tfidf_transformer = TfidfTransformer()\n",
    "X_train_tfidf = tfidf_transformer.fit_transform(X_train_counts)\n",
    "print X_train_tfidf.shape"
   ]
  },
  {
   "cell_type": "code",
   "execution_count": 37,
   "metadata": {
    "collapsed": false
   },
   "outputs": [
    {
     "data": {
      "text/plain": [
       "1.0"
      ]
     },
     "execution_count": 37,
     "metadata": {},
     "output_type": "execute_result"
    }
   ],
   "source": [
    "from sklearn.pipeline import Pipeline\n",
    "from sklearn.linear_model import SGDClassifier\n",
    "text_clf = Pipeline([('vect', CountVectorizer(tokenizer=tokenize, ngram_range=(1, 2))), #stop_words='english',\n",
    "                    ('tfidf', TfidfTransformer()),\n",
    "                      ('clf', SGDClassifier(loss='hinge', penalty='l2',\n",
    "                                           alpha=1e-3, n_iter=5, random_state=42)),\n",
    "])\n",
    "_ = text_clf.fit(allsents, alllabels)\n",
    "predicted = text_clf.predict(allsents)\n",
    "np.mean(predicted == alllabels)   "
   ]
  },
  {
   "cell_type": "code",
   "execution_count": 33,
   "metadata": {
    "collapsed": false
   },
   "outputs": [
    {
     "name": "stdout",
     "output_type": "stream",
     "text": [
      "              precision    recall  f1-score   support\n",
      "\n",
      "      beauty       1.00      1.00      1.00         9\n",
      "       bills       1.00      1.00      1.00        18\n",
      "     grocery       1.00      1.00      1.00         5\n",
      "prescription       1.00      1.00      1.00         7\n",
      "    recharge       1.00      1.00      1.00         5\n",
      "     Refunds       1.00      1.00      1.00        11\n",
      "    Referral       1.00      1.00      1.00         5\n",
      "     support       1.00      1.00      1.00        16\n",
      "      offers       1.00      1.00      1.00         4\n",
      "\n",
      " avg / total       1.00      1.00      1.00        80\n",
      "\n"
     ]
    },
    {
     "data": {
      "text/plain": [
       "array([[ 9,  0,  0,  0,  0,  0,  0,  0,  0],\n",
       "       [ 0, 18,  0,  0,  0,  0,  0,  0,  0],\n",
       "       [ 0,  0,  5,  0,  0,  0,  0,  0,  0],\n",
       "       [ 0,  0,  0,  7,  0,  0,  0,  0,  0],\n",
       "       [ 0,  0,  0,  0,  5,  0,  0,  0,  0],\n",
       "       [ 0,  0,  0,  0,  0, 11,  0,  0,  0],\n",
       "       [ 0,  0,  0,  0,  0,  0,  5,  0,  0],\n",
       "       [ 0,  0,  0,  0,  0,  0,  0, 16,  0],\n",
       "       [ 0,  0,  0,  0,  0,  0,  0,  0,  4]])"
      ]
     },
     "execution_count": 33,
     "metadata": {},
     "output_type": "execute_result"
    }
   ],
   "source": [
    "from sklearn import metrics\n",
    "print(metrics.classification_report(alllabels, predicted,target_names=labels))\n",
    "metrics.confusion_matrix(alllabels, predicted)"
   ]
  },
  {
   "cell_type": "code",
   "execution_count": 34,
   "metadata": {
    "collapsed": false
   },
   "outputs": [
    {
     "name": "stdout",
     "output_type": "stream",
     "text": [
      "[u'Refunds' u'Refunds' u'Refunds' u'Refunds' u'Refunds' u'Refunds'\n",
      " u'Refunds' u'Refunds' u'Refunds' u'Refunds' u'Refunds' u'Refunds'\n",
      " u'Refunds' u'Refunds' u'Refunds' u'Refunds' u'Refunds' u'Refunds']\n"
     ]
    }
   ],
   "source": [
    "s = [\n",
    "    'please recharge',\n",
    "    ' book wax me'\n",
    "]\n",
    "\n",
    "sents = label2text['Refunds']\n",
    "p = text_clf.predict(sents)\n",
    "print p"
   ]
  }
 ],
 "metadata": {
  "kernelspec": {
   "display_name": "Python 2",
   "language": "python",
   "name": "python2"
  },
  "language_info": {
   "codemirror_mode": {
    "name": "ipython",
    "version": 2
   },
   "file_extension": ".py",
   "mimetype": "text/x-python",
   "name": "python",
   "nbconvert_exporter": "python",
   "pygments_lexer": "ipython2",
   "version": "2.7.10"
  }
 },
 "nbformat": 4,
 "nbformat_minor": 0
}
