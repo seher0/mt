{
 "cells": [
  {
   "cell_type": "code",
   "execution_count": 8,
   "metadata": {
    "collapsed": false
   },
   "outputs": [
    {
     "name": "stdout",
     "output_type": "stream",
     "text": [
      "The autoreload extension is already loaded. To reload it, use:\n",
      "  %reload_ext autoreload\n"
     ]
    }
   ],
   "source": [
    "%load_ext autoreload\n",
    "%autoreload 2\n",
    "\n"
   ]
  },
  {
   "cell_type": "code",
   "execution_count": 173,
   "metadata": {
    "collapsed": false
   },
   "outputs": [
    {
     "name": "stdout",
     "output_type": "stream",
     "text": [
      "beauty [u'book beauty services', u'i want to book beauty services', u'book facial for me', u'how to book beauty services', u'book waxing service for me'] \n",
      "\n",
      "bills [u'pay my bill', u'pay my dth bill', u'pay my electricity bill', u'pay my water bills', u'bill payment', u'how do i pay bill', u'pay bills'] \n",
      "\n",
      "grocery [u'order', u'buy', u'order', u'how to order', u'show me the list to buy grocery'] \n",
      "\n",
      "prescription [u'order prescription medicine', u'order medicine', u'i want medicines for my prescription', u'how to order medicine', u'you deliver medicine'] \n",
      "\n",
      "recharge [u'recharge my phone', u'recharge phone', u'pay postpaid bill', u'rebharge', u'rehcarge', u'can you help reharge my phone', u'how recharge', u'how do i recharge', u'how recharge', u'how to recharge mobile phone', u'i want to recharge mobile phone', u'how to recharge here', u'how to recharge in this app', u'how can i recharge from this app', u'your airtel', u'your vodafone'] \n",
      "\n",
      "Refunds [u'refunds', u'when can i get refund', u'how will i get refund', u'where will i get refund', u'give me refund', u'i need refund', u'i want refund', u'give me my money back', u'give my money back', u'how do i get my money back', u'i need my money back', u'initiate my refund', u'when will you refund', u'can you refund my money', u'give back the order amount', u'failed transaction', u'the last transaction failed.', u'the transaction did not succeed'] \n",
      "\n",
      "Referral [u'how to get referral bonus', u'where is my referral amount', u'where can i avail referral bonus', u'how to use referral bonus', u'how to refer', u'where to refer', u'refer and earn', u'share and earn', u'how to refer and earn'] \n",
      "\n",
      "support [u'how can i contact support?', u'i need help on my order', u'i want to cancel the order', u'help me with the order'] \n",
      "\n",
      "offers [u'what offers do you have?', u'any offers', u'what are the offers?', u'any deals?', u'what deals do you have to  offer', u'where can i see the deals', u'i want to avail offer', u'where i see the offers?', u'what are the deals you are offering?', u'what type of offers do you provide?', u'how to get cashback'] \n",
      "\n"
     ]
    }
   ],
   "source": [
    "import json\n",
    "import numpy as np\n",
    "from pprint import pprint\n",
    "\n",
    "\n",
    "labels = [u'beauty', u'bills', u'grocery', u'prescription', u'recharge', u'Refunds', u'Referral', u'support', u'offers']\n",
    "\n",
    "from extract_data import extract_api_ai_data\n",
    "\n",
    "\n",
    "\n",
    "label2text, max_sent_length = extract_api_ai_data(labels)"
   ]
  },
  {
   "cell_type": "code",
   "execution_count": 3,
   "metadata": {
    "collapsed": true
   },
   "outputs": [],
   "source": [
    "from spacy.en import English\n",
    "\n",
    "nlp = English()\n",
    "doc = nlp(u'Hello, world. Here are two sentences.')\n"
   ]
  },
  {
   "cell_type": "code",
   "execution_count": 119,
   "metadata": {
    "collapsed": false
   },
   "outputs": [
    {
     "name": "stdout",
     "output_type": "stream",
     "text": [
      "** grocery\n",
      "[u'order', u'buy', u'order', u'how order to', u'me grocery buy show list to the']\n",
      "** Referral\n",
      "[u'bonus how referral to get', u'be amount referral my where', u'i avail bonus can referral where', u'bonus how use referral to', u'how to refer', u'to where refer', u'and earn refer', u'and earn share', u'and how earn to refer']\n",
      "** prescription\n",
      "[u'medicine prescription order', u'medicine order', u'prescription for i want medicine my', u'medicine how order to', u'medicine you deliver']\n",
      "** beauty\n",
      "[u'book beauty service', u'beauty service i to book want', u'me book facial for', u'how book beauty service to', u'me book service for wax']\n",
      "** Refunds\n",
      "[u'refund', u'i refund when can get', u'will how i refund get', u'will i where refund get', u'me refund give', u'i need refund', u'i refund want', u'me money my back give', u'money my back give', u'do get i money back how my', u'i need my back money', u'refund initiate my', u'will refund you when', u'refund money you my can', u'back the give amount order', u'fail transaction', u'fail the transaction last', u'not do the transaction succeed']\n",
      "** support\n",
      "[u'i how support contact can', u'on help i need my order', u'i to want cancel the order', u'me the with help order']\n",
      "** offers\n",
      "[u'do what you have offer', u'any offer', u'be the what offer', u'any deal', u'do what deal offer to have you', u'deal i see can the where', u'i to avail want offer', u'i see where the offer', u'be what offering deal you the', u'do what offer provide of you type', u'how cashback to get']\n",
      "** bills\n",
      "[u'pay bill my', u'pay dth my bill', u'electricity pay bill my', u'water pay bill my', u'bill payment', u'i how bill do pay', u'pay bill']\n",
      "** recharge\n",
      "[u'phone my recharge', u'phone recharge', u'postpaid pay bill', u'recharge', u'recharge', u'help phone can you my recharge', u'how recharge', u'i how do recharge', u'how recharge', u'mobile how to phone recharge', u'to i phone mobile want recharge', u'how to here recharge', u'how this app to in recharge', u'from how i app this can recharge', u'your airtel', u'your vodafone']\n"
     ]
    }
   ],
   "source": [
    "spellcheck = {\n",
    "    'rebharge': u'recharge',\n",
    "    'rehcarge': u'recharge',\n",
    "    'reharge': u'recharge'\n",
    "}\n",
    "\n",
    "for label in label2text:\n",
    "    sents = label2text[label]\n",
    "    \n",
    "    sents2 = []\n",
    "    for sent in sents:\n",
    "        tokens = nlp(sent)\n",
    "        sent1 = []\n",
    "        \n",
    "        \n",
    "        #print tokens\n",
    "        for tok in tokens:\n",
    "            #w = tok.orth_\n",
    "            #print tok, tok.lemma_\n",
    "            w = tok.lemma_\n",
    "            if tok.is_punct or tok.is_space: continue\n",
    "            # replace oov token vectors by known vectors\n",
    "            if tok.is_oov:\n",
    "                print '-----', tok\n",
    "                if w in spellcheck:\n",
    "                    sent1.append(spellcheck[w])\n",
    "                else: assert False\n",
    "                    #nlp.vocab[w].vector = nlp.vocab[spellcheck[w]].vector\n",
    "            else: sent1.append(w)\n",
    "        \n",
    "        sent1 = list(set(sent1))\n",
    "        sents2.append( ' '.join(sent1).strip() )\n",
    "        label2text[label] = sents2\n",
    "        \n",
    "        \n",
    "        \n",
    "                \n",
    "        '''\n",
    "        for word in words:\n",
    "              if not nlp.vocab[word].has_vector:\n",
    "                    print word\n",
    "        ''' \n",
    "for label, sents in label2text.viewitems():\n",
    "    print '**', label\n",
    "    print sents\n",
    "\n"
   ]
  },
  {
   "cell_type": "code",
   "execution_count": null,
   "metadata": {
    "collapsed": false
   },
   "outputs": [],
   "source": [
    "\n"
   ]
  },
  {
   "cell_type": "code",
   "execution_count": 19,
   "metadata": {
    "collapsed": false
   },
   "outputs": [
    {
     "data": {
      "text/plain": [
       "True"
      ]
     },
     "execution_count": 19,
     "metadata": {},
     "output_type": "execute_result"
    }
   ],
   "source": []
  },
  {
   "cell_type": "code",
   "execution_count": 38,
   "metadata": {
    "collapsed": false
   },
   "outputs": [
    {
     "name": "stdout",
     "output_type": "stream",
     "text": [
      "334159\n",
      "-19.5020294189\n",
      "False\n"
     ]
    }
   ],
   "source": [
    "''' Misc Examples\n",
    "doc[1].repvec == doc[1].vector\n",
    "words = [w for w in nlp.vocab if w.has_vector]\n",
    "print len(words)\n",
    "np.any(doc[2].vector)\n",
    "print nlp.vocab[u'reharge'].prob\n",
    "print nlp.vocab[u'reharge'].has_vector\n",
    "n_dimensions = nlp.vocab.load_vectors('glove.840B.300d.txt.bz2')\n",
    "print n_dimensions\n",
    "'''\n"
   ]
  },
  {
   "cell_type": "code",
   "execution_count": 138,
   "metadata": {
    "collapsed": false
   },
   "outputs": [
    {
     "name": "stdout",
     "output_type": "stream",
     "text": [
      "{u'airtel': 2.6094379124341005,\n",
      " u'app': 2.6094379124341005,\n",
      " u'avail': 2.2039728043259359,\n",
      " u'beauty': 2.6094379124341005,\n",
      " u'bonus': 2.6094379124341005,\n",
      " u'book': 2.6094379124341005,\n",
      " u'buy': 2.6094379124341005,\n",
      " u'cancel': 2.6094379124341005,\n",
      " u'cashback': 2.6094379124341005,\n",
      " u'contact': 2.6094379124341005,\n",
      " u'deal': 2.6094379124341005,\n",
      " u'deliver': 2.6094379124341005,\n",
      " u'dth': 2.6094379124341005,\n",
      " u'earn': 2.6094379124341005,\n",
      " u'electricity': 2.6094379124341005,\n",
      " u'facial': 2.6094379124341005,\n",
      " u'fail': 2.6094379124341005,\n",
      " u'grocery': 2.6094379124341005,\n",
      " u'help': 2.2039728043259359,\n",
      " u'initiate': 2.6094379124341005,\n",
      " u'list': 2.6094379124341005,\n",
      " u'medicine': 2.6094379124341005,\n",
      " u'mobile': 2.6094379124341005,\n",
      " u'money': 2.6094379124341005,\n",
      " u'need': 2.2039728043259359,\n",
      " u'offer': 2.6094379124341005,\n",
      " u'offering': 2.6094379124341005,\n",
      " u'order': 1.6931471805599454,\n",
      " u'pay': 2.2039728043259359,\n",
      " u'payment': 2.6094379124341005,\n",
      " u'phone': 2.6094379124341005,\n",
      " u'postpaid': 2.6094379124341005,\n",
      " u'prescription': 2.6094379124341005,\n",
      " u'provide': 2.6094379124341005,\n",
      " u'recharge': 2.6094379124341005,\n",
      " u'refer': 2.6094379124341005,\n",
      " u'referral': 2.6094379124341005,\n",
      " u'refund': 2.6094379124341005,\n",
      " u'service': 2.6094379124341005,\n",
      " u'share': 2.6094379124341005,\n",
      " u'succeed': 2.6094379124341005,\n",
      " u'support': 2.6094379124341005,\n",
      " u'transaction': 2.6094379124341005,\n",
      " u'type': 2.6094379124341005,\n",
      " u'use': 2.6094379124341005,\n",
      " u'vodafone': 2.6094379124341005,\n",
      " u'want': 1.3566749439387324,\n",
      " u'water': 2.6094379124341005,\n",
      " u'wax': 2.6094379124341005}\n"
     ]
    }
   ],
   "source": [
    "from sklearn.feature_extraction.text import TfidfVectorizer\n",
    "corpus = [\"This is very strange\",\n",
    "          \"This is very nice\"]\n",
    "#vectorizer = TfidfVectorizer(min_df=1, analyzer = 'word', stop_words='english')\n",
    "vectorizer = TfidfVectorizer(min_df=1, analyzer = 'word', sublinear_tf=True, stop_words='english')\n",
    "\n",
    "\n",
    "#vect = TfidfVectorizer(sublinear_tf=True, max_df=0.5, analyzer='word',stop_words='english', vocabulary=vocabulary)\n",
    "label2onesent = {}\n",
    "for label, sents in label2text.viewitems():\n",
    "    #allsents.extend(sents)\n",
    "    label2onesent[label] = ' '.join(sents)\n",
    "\n",
    "corpus = label2onesent.values()\n",
    "    \n",
    "X = vectorizer.fit_transform(corpus)\n",
    "idf = vectorizer.idf_\n",
    "word2tfidf = dict(zip(vectorizer.get_feature_names(), idf))\n",
    "pprint (word2tfidf)\n",
    "\n",
    "label2tfidf = {}\n",
    "\n",
    "for label, sents in label2text.viewitems():\n",
    "    X = vectorizer.fit_transform(sents)\n",
    "    idf = vectorizer.idf_\n",
    "    w2tfidf = dict(zip(vectorizer.get_feature_names(), idf))\n",
    "    label2tfidf[label] = w2tfidf\n",
    "\n",
    "#pprint ( label2tfidf)\n",
    "    "
   ]
  },
  {
   "cell_type": "markdown",
   "metadata": {},
   "source": [
    "\n",
    "       "
   ]
  },
  {
   "cell_type": "code",
   "execution_count": 134,
   "metadata": {
    "collapsed": false
   },
   "outputs": [
    {
     "name": "stdout",
     "output_type": "stream",
     "text": [
      "order,  (u'grocery', u'prescription')\n",
      "buy,  (u'grocery', u'recharge')\n",
      "order,  (u'grocery', u'prescription')\n",
      "how order to,  (u'grocery', u'Refunds')\n",
      "be amount referral my where,  (u'Referral', u'Refunds')\n",
      "i avail bonus can referral where,  (u'Referral', u'Refunds')\n",
      "how to refer,  (u'Referral', u'Refunds')\n",
      "to where refer,  (u'Referral', u'Refunds')\n",
      "and earn refer,  (u'Referral', u'recharge')\n",
      "and earn share,  (u'Referral', u'recharge')\n",
      "and how earn to refer,  (u'Referral', u'Refunds')\n",
      "medicine you deliver,  (u'prescription', u'Refunds')\n",
      "me book facial for,  (u'beauty', u'prescription')\n",
      "me book service for wax,  (u'beauty', u'prescription')\n",
      "on help i need my order,  (u'support', u'Refunds')\n",
      "i to want cancel the order,  (u'support', u'Refunds')\n",
      "me the with help order,  (u'support', u'Refunds')\n",
      "do what you have offer,  (u'offers', u'Refunds')\n",
      "be the what offer,  (u'offers', u'Refunds')\n",
      "any deal,  (u'offers', u'Refunds')\n",
      "do what deal offer to have you,  (u'offers', u'Refunds')\n",
      "deal i see can the where,  (u'offers', u'Refunds')\n",
      "i see where the offer,  (u'offers', u'Refunds')\n",
      "be what offering deal you the,  (u'offers', u'Refunds')\n",
      "do what offer provide of you type,  (u'offers', u'Refunds')\n",
      "**&& sent:  how cashback to get && tok is  cashback  8\n",
      "how cashback to get,  (u'offers', u'Refunds')\n",
      "pay dth my bill,  (u'bills', u'Refunds')\n",
      "electricity pay bill my,  (u'bills', u'Refunds')\n",
      "water pay bill my,  (u'bills', u'Refunds')\n",
      "i how bill do pay,  (u'bills', u'Refunds')\n",
      "postpaid pay bill,  (u'recharge', u'Refunds')\n",
      "your airtel,  (u'recharge', u'grocery')\n",
      "your vodafone,  (u'recharge', u'grocery')\n",
      "33\n"
     ]
    }
   ],
   "source": [
    "from numpy.linalg import norm\n",
    "def gettfidf (word, scoremap):\n",
    "    #return 1.0\n",
    "\n",
    "    if word in scoremap: return scoremap[word]\n",
    "    else: return 1.0\n",
    "    \n",
    "def sent2vec(sent, tfidf):\n",
    "    tokens = nlp(sent)\n",
    "    for tok in tokens:\n",
    "        if not np.any(tok.vector):\n",
    "            print '**&& sent: ', sent, '&& tok is ',tok, len(tok)\n",
    "            #assert False\n",
    "    s = sum(tok.vector * gettfidf(tok.orth_, tfidf) for tok in tokens)\n",
    "    #print s\n",
    "    return s\n",
    "def cos(v1, v2):\n",
    "    return np.dot(v1, v2) / (norm(v1) * norm(v2))\n",
    "\n",
    "labelvecs = [nlp.vocab[l.lower()].repvec for l in labels]\n",
    "\n",
    "def closest_label(svec):\n",
    "    dists = [cos(lvec, svec) for lvec in labelvecs]\n",
    "    #print dists\n",
    "    i = np.argmax(dists)\n",
    "    return labels[i]\n",
    "\n",
    "count = 0\n",
    "for label in label2text:\n",
    "    sents = label2text[label]\n",
    "    #tfidf = label2tfidf[label]\n",
    "    tfidf = w2tfidf\n",
    "    #if label not in ['recharge']: continue\n",
    "    for sent in sents:\n",
    "        #print sent\n",
    "        svec = sent2vec(sent, tfidf)\n",
    "        pred_label = closest_label(svec)\n",
    "        if pred_label != label:\n",
    "            count += 1\n",
    "            print sent + ', ', (label,pred_label)\n",
    "\n",
    "print count"
   ]
  },
  {
   "cell_type": "code",
   "execution_count": null,
   "metadata": {
    "collapsed": false
   },
   "outputs": [],
   "source": []
  },
  {
   "cell_type": "code",
   "execution_count": null,
   "metadata": {
    "collapsed": false
   },
   "outputs": [],
   "source": []
  },
  {
   "cell_type": "code",
   "execution_count": null,
   "metadata": {
    "collapsed": false
   },
   "outputs": [],
   "source": []
  },
  {
   "cell_type": "code",
   "execution_count": null,
   "metadata": {
    "collapsed": false
   },
   "outputs": [],
   "source": []
  },
  {
   "cell_type": "code",
   "execution_count": null,
   "metadata": {
    "collapsed": false
   },
   "outputs": [],
   "source": []
  }
 ],
 "metadata": {
  "kernelspec": {
   "display_name": "Python 2",
   "language": "python",
   "name": "python2"
  },
  "language_info": {
   "codemirror_mode": {
    "name": "ipython",
    "version": 2
   },
   "file_extension": ".py",
   "mimetype": "text/x-python",
   "name": "python",
   "nbconvert_exporter": "python",
   "pygments_lexer": "ipython2",
   "version": "2.7.10"
  }
 },
 "nbformat": 4,
 "nbformat_minor": 0
}
